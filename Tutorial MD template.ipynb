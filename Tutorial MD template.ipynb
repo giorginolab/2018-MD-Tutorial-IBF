{
 "cells": [
  {
   "cell_type": "markdown",
   "metadata": {},
   "source": [
    "# A practical MD Tutorial \n",
    "## December 2018 at IBF-CNR \n",
    "\n",
    "We'll be using the HTMD library, which is a Python-based package incorporating various MD components and provides simplified system-building functions.\n",
    "\n",
    "Notes:\n",
    "* Please copy this file (\"File->Make a copy\"). You can't overwrite it.\n",
    "* Evaluate cells using Shift-Enter (=execute contained code)\n",
    "* HTMD is only available on Linux. You are now using a remote Linux machine. \n",
    "* Use \"Kernel->Restart\" to start from scratch.\n",
    "\n",
    "Full documentation:\n",
    "* https://software.acellera.com/docs/latest/htmd/index.html\n",
    "* https://software.acellera.com/docs/latest/htmd/userguide.html\n",
    "\n",
    "References:\n",
    "1. Braun E, Gilmer J, Mayes HB, Mobley DL, Prasad S, Zuckerman DM. Best Practices for Foundations in Molecular Simulations [Article v1.0]. Living J Comp Mol Sci. :28.  https://github.com/MobleyLab/basic_simulation_training/blob/master/paper/basic_training.pdf\n",
    "1. Knapp B, Ospina L, Deane CM. Avoiding False Positive Conclusions in Molecular Simulation: The Importance of Replicas. J Chem Theory Comput [Internet]. 2018 Oct 24 [cited 2018 Nov 26]; Available from: https://doi.org/10.1021/acs.jctc.8b00391\n",
    "1. Giorgino T, Analysis libraries for molecular trajectories: a cross-language synopsis. To appear in:  Biomolecular Simulations: Methods and Protocols Edited by M. Bonomi and C. Camilloni (Springer). Preprint. [PDF](https://drive.google.com/open?id=1_mG3Ig6RaKsCJrnNfVDv0n6xa5_b25FE)\n"
   ]
  },
  {
   "cell_type": "code",
   "execution_count": 1,
   "metadata": {},
   "outputs": [
    {
     "data": {
      "text/plain": [
       "2"
      ]
     },
     "execution_count": 1,
     "metadata": {},
     "output_type": "execute_result"
    }
   ],
   "source": [
    "1+1"
   ]
  },
  {
   "cell_type": "markdown",
   "metadata": {},
   "source": [
    "# Molecular Dynamics \n",
    "\n",
    "## Assumptions\n",
    "\n",
    "\n",
    "In this tutorial we shall deal with *unbiased* sampling approaches with explicit solvent, i.e. \n",
    "* no added forces except the \"physical\" ones in your system;\n",
    "* all of the system (including water molecules) have atomic resolution.\n",
    "\n",
    "Also, current *classical* MD does **not** address, by design, the following:\n",
    "* Chemical reactions, e.g. catalysis, phosphorylation, ubiquitination etc.\n",
    "* Protonation changes\n",
    "\n",
    "Finally, small molecules pose distinct challenges and need a separate, expensive *parameterization* step.\n",
    "\n",
    "\n",
    "## MD is *entirely* about timescales\n",
    "\n",
    "Your ability to obtain quantitative results is *severely* limited by the sampling ability you have. You will only be able to reach phenomena occurring on the *sampled* timescales, or shorter. \n",
    "\n",
    "* Sidechain rearrangements, diffusion-limited processes: usually possible *\n",
    "* Local flexibility: usually possible *\n",
    "* Membrane environment: ok-ish\n",
    "* Binding: hard but not impossible\n",
    "* Folding: very hard but not impossible\n",
    "\n",
    "[*] Unless there are significant barriers.\n",
    "\n",
    "The following factors affect the running speed (usually expressed in ns per simulation day, ns/day)\n",
    "* System size. Reasonable is 100 AA ~ 30,000 atoms. \n",
    "* Computer speed. Forget laptops. Use GPU if available.\n",
    "* Software. \n",
    "\n",
    "## Biased sampling\n",
    "\n",
    "If you are prepared to pay the price of adding *a priori* knowledge to your system, one may resort to *biased* sampling approaches, e.g. Metadynamics. This is a different topic; basic MD technology stays the same, but biasing libraries (e.g. [Plumed 2](http://www.plumed.org/)) come into play."
   ]
  },
  {
   "cell_type": "code",
   "execution_count": 2,
   "metadata": {},
   "outputs": [
    {
     "name": "stdout",
     "output_type": "stream",
     "text": [
      "This session's PID is 16280, which is also a directory where you will find your files\n"
     ]
    }
   ],
   "source": [
    "# Ignore the following cell. It's to separate your work files.\n",
    "import os\n",
    "pid=os.getpid()\n",
    "print(f\"This session's PID is {pid}, which is also a directory where you will find your files\")\n",
    "try: os.mkdir(f\"{pid}\") \n",
    "except: pass"
   ]
  },
  {
   "cell_type": "markdown",
   "metadata": {},
   "source": [
    "# Step 1. Know and prepare your system\n",
    "\n",
    "Review your knowledge of the system on the light of what was mentioned before. \n",
    "\n",
    "To assess protonation states, submit your PDB to https://playmolecule.org/proteinPrepare/ . Make a note of the non-standard states. See https://software.acellera.com/docs/latest/htmd/tutorials/protein-preparation.html. \n",
    "\n",
    "1. Martínez-Rosell G, Giorgino T, De Fabritiis G. PlayMolecule ProteinPrepare: A Web Application for Protein Preparation for Molecular Dynamics Simulations. J Chem Inf Model. 2017 Jul 24;57(7):1511–6. \n",
    "\n"
   ]
  },
  {
   "cell_type": "markdown",
   "metadata": {},
   "source": [
    "# Step 2. Import the HTMD package"
   ]
  },
  {
   "cell_type": "code",
   "execution_count": 3,
   "metadata": {},
   "outputs": [
    {
     "name": "stdout",
     "output_type": "stream",
     "text": [
      "ffevaluate module is in beta version\n",
      "\n",
      "Please cite HTMD: Doerr et al.(2016)JCTC,12,1845. \n",
      "https://dx.doi.org/10.1021/acs.jctc.6b00049\n",
      "Documentation: http://software.acellera.com/\n",
      "\n"
     ]
    },
    {
     "name": "stderr",
     "output_type": "stream",
     "text": [
      "2018-12-14 16:28:57,364 - binstar - INFO - Using Anaconda API: https://api.anaconda.org\n"
     ]
    },
    {
     "name": "stdout",
     "output_type": "stream",
     "text": [
      "You are on the latest HTMD version (1.13.9).\n",
      "\n"
     ]
    },
    {
     "name": "stderr",
     "output_type": "stream",
     "text": [
      "/data/mdtutorial/miniconda/lib/python3.6/site-packages/pyemma/__init__.py:91: UserWarning: You are not using the latest release of PyEMMA. Latest is 2.5.4, you have 2.4.\n",
      "  .format(latest=latest, current=current), category=UserWarning)\n"
     ]
    }
   ],
   "source": [
    "from htmd.ui import *\n",
    "config(viewer='ngl')"
   ]
  },
  {
   "cell_type": "markdown",
   "metadata": {},
   "source": [
    "## Basic Molecule manipulation"
   ]
  },
  {
   "cell_type": "code",
   "execution_count": 4,
   "metadata": {},
   "outputs": [
    {
     "name": "stderr",
     "output_type": "stream",
     "text": [
      "2018-12-14 16:31:53,524 - htmd.molecule.readers - INFO - Attempting PDB query for 3m0a\n"
     ]
    },
    {
     "data": {
      "text/plain": [
       "<htmd.molecule.molecule.Molecule object at 0x7ff9f0799b70>\n",
       "Molecule with 1926 atoms and 1 frames\n",
       "Atom field - altloc shape: (1926,)\n",
       "Atom field - atomtype shape: (1926,)\n",
       "Atom field - beta shape: (1926,)\n",
       "Atom field - chain shape: (1926,)\n",
       "Atom field - charge shape: (1926,)\n",
       "Atom field - coords shape: (1926, 3, 1)\n",
       "Atom field - element shape: (1926,)\n",
       "Atom field - insertion shape: (1926,)\n",
       "Atom field - masses shape: (1926,)\n",
       "Atom field - name shape: (1926,)\n",
       "Atom field - occupancy shape: (1926,)\n",
       "Atom field - record shape: (1926,)\n",
       "Atom field - resid shape: (1926,)\n",
       "Atom field - resname shape: (1926,)\n",
       "Atom field - segid shape: (1926,)\n",
       "Atom field - serial shape: (1926,)\n",
       "angles shape: (0, 3)\n",
       "bonds shape: (8, 2)\n",
       "bondtype shape: (8,)\n",
       "box shape: (3, 1)\n",
       "boxangles shape: (3, 1)\n",
       "crystalinfo: {'a': 92.12299999999999, 'b': 92.12299999999999, 'c': 85.971000000000004, 'alpha': 90.0, 'beta': 90.0, 'gamma': 90.0, 'sGroup': ['I', '41'], 'z': 24, 'numcopies': 8, 'rotations': array([[[ 1.,  0.,  0.],\n",
       "        [ 0.,  1.,  0.],\n",
       "        [ 0.,  0.,  1.]],\n",
       "\n",
       "       [[-1.,  0.,  0.],\n",
       "        [ 0., -1.,  0.],\n",
       "        [ 0.,  0.,  1.]],\n",
       "\n",
       "       [[ 0., -1.,  0.],\n",
       "        [ 1.,  0.,  0.],\n",
       "        [ 0.,  0.,  1.]],\n",
       "\n",
       "       [[ 0.,  1.,  0.],\n",
       "        [-1.,  0.,  0.],\n",
       "        [ 0.,  0.,  1.]],\n",
       "\n",
       "       [[ 1.,  0.,  0.],\n",
       "        [ 0.,  1.,  0.],\n",
       "        [ 0.,  0.,  1.]],\n",
       "\n",
       "       [[-1.,  0.,  0.],\n",
       "        [ 0., -1.,  0.],\n",
       "        [ 0.,  0.,  1.]],\n",
       "\n",
       "       [[ 0., -1.,  0.],\n",
       "        [ 1.,  0.,  0.],\n",
       "        [ 0.,  0.,  1.]],\n",
       "\n",
       "       [[ 0.,  1.,  0.],\n",
       "        [-1.,  0.,  0.],\n",
       "        [ 0.,  0.,  1.]]]), 'translations': array([[  0.     ,   0.     ,   0.     ],\n",
       "       [ 46.0615 ,  46.0615 ,  42.9855 ],\n",
       "       [  0.     ,  46.0615 ,  21.49275],\n",
       "       [ 46.0615 ,   0.     ,  64.47825],\n",
       "       [ 46.0615 ,  46.0615 ,  42.9855 ],\n",
       "       [  0.     ,   0.     ,   0.     ],\n",
       "       [ 46.0615 ,   0.     ,  64.47825],\n",
       "       [  0.     ,  46.0615 ,  21.49275]])}\n",
       "dihedrals shape: (0, 4)\n",
       "fileloc shape: (1, 2)\n",
       "impropers shape: (0, 4)\n",
       "reps: \n",
       "ssbonds shape: (0,)\n",
       "step shape: (1,)\n",
       "time shape: (1,)\n",
       "topoloc: /tmp/tmphn2xbx9s.pdb\n",
       "viewname: tmphn2xbx9s.pdb"
      ]
     },
     "execution_count": 4,
     "metadata": {},
     "output_type": "execute_result"
    }
   ],
   "source": [
    "ciap2 = Molecule(\"3m0a\")\n",
    "ciap2"
   ]
  },
  {
   "cell_type": "code",
   "execution_count": 5,
   "metadata": {},
   "outputs": [],
   "source": [
    "?Molecule"
   ]
  },
  {
   "cell_type": "code",
   "execution_count": 6,
   "metadata": {},
   "outputs": [
    {
     "data": {
      "application/vnd.jupyter.widget-view+json": {
       "model_id": "8375d74eed004dae888e46220a5291b8",
       "version_major": 2,
       "version_minor": 0
      },
      "text/plain": [
       "A Jupyter Widget"
      ]
     },
     "metadata": {},
     "output_type": "display_data"
    }
   ],
   "source": [
    "# Viewer https://software.acellera.com/docs/latest/htmd/htmd.vmdviewer.html\n",
    "ciap2.view()"
   ]
  },
  {
   "cell_type": "code",
   "execution_count": 7,
   "metadata": {
    "scrolled": true
   },
   "outputs": [
    {
     "name": "stderr",
     "output_type": "stream",
     "text": [
      "2018-12-14 16:33:58,784 - htmd.molecule.molecule - INFO - Removed 1351 atoms. 575 atoms remaining in the molecule.\n"
     ]
    },
    {
     "data": {
      "application/vnd.jupyter.widget-view+json": {
       "model_id": "028ef5418fb748cebd8e1db1af170ade",
       "version_major": 2,
       "version_minor": 0
      },
      "text/plain": [
       "A Jupyter Widget"
      ]
     },
     "metadata": {},
     "output_type": "display_data"
    }
   ],
   "source": [
    "ciap2.filter(\"chain D\")\n",
    "ciap2.view()"
   ]
  },
  {
   "cell_type": "code",
   "execution_count": 11,
   "metadata": {},
   "outputs": [
    {
     "data": {
      "application/vnd.jupyter.widget-view+json": {
       "model_id": "e41c6b63c0fc4d90899ce7851e5be1b6",
       "version_major": 2,
       "version_minor": 0
      },
      "text/plain": [
       "A Jupyter Widget"
      ]
     },
     "metadata": {},
     "output_type": "display_data"
    }
   ],
   "source": [
    "ciap2.reps.add(\"protein\",\"NewCartoon\")\n",
    "ciap2.reps.add(\"name ZN\",\"VdW\")\n",
    "ciap2.reps.add(\"same residue as within 4 of name ZN\",\"Licorice\")\n",
    "ciap2.view()"
   ]
  },
  {
   "cell_type": "markdown",
   "metadata": {},
   "source": [
    "We learn that it is a 4-site ZN coordination site with CYS 66 93 69 and HIS 86. Hence, these CYS must NOT be in their standard pH=7 state, but deprotonated (CYM). HIS must be protonated on $\\delta$ (HID)."
   ]
  },
  {
   "cell_type": "markdown",
   "metadata": {},
   "source": [
    "* Note that `nb` etc. are *objects* of type `Molecule`.\n",
    "* You may apply transformations, get properties, and so on. \n",
    "* The objective is to make the notebook *reproducible*.\n",
    "* For help, see `?Molecule` and https://software.acellera.com/docs/latest/htmd/molecule.html"
   ]
  },
  {
   "cell_type": "code",
   "execution_count": 25,
   "metadata": {},
   "outputs": [],
   "source": [
    "ciap2.set('resname','CYM',sel='resname CYS and resid 66 93 69')\n",
    "ciap2.set('resname','HID',sel='resname HIS and resid 86')"
   ]
  },
  {
   "cell_type": "code",
   "execution_count": 26,
   "metadata": {},
   "outputs": [
    {
     "data": {
      "text/plain": [
       "array([  74.05999756,   78.98999786,   61.52000046,   63.58000183,\n",
       "         55.56999969,   57.45000076,   50.36999893,   46.70999908,\n",
       "         51.81000137,   44.15000153,   43.27000046,   44.22000122,\n",
       "         57.15000153,   65.44999695,   57.75      ,   69.13999939,\n",
       "         72.76000214,   85.54000092,   79.09999847,   93.37000275,\n",
       "         88.37999725,   72.30999756,   61.95000076,   59.        ,\n",
       "         65.76000214,   59.74000168,   64.08000183,   64.55999756,\n",
       "         58.61999893,   67.72000122,   52.77999878,   50.27000046,\n",
       "         48.00999832,   58.45999908,   62.70999908,   59.93999863,\n",
       "         80.23999786,   77.51999664,   63.59000015,   48.31999969,\n",
       "         57.68000031,   58.04999924,   58.79000092,   63.97000122,\n",
       "         67.18000031,   64.06999969,   71.15000153,   72.44000244,\n",
       "         81.91999817,   85.59999847,   98.22000122,   96.70999908,\n",
       "         91.41999817,   95.80999756,  102.62000275,   96.80000305,\n",
       "         91.48999786,   86.29000092,   81.20999908,   91.91000366,\n",
       "         84.05999756,   81.76000214,   94.16999817,   99.98999786,\n",
       "        103.62999725,  103.70999908,   97.19000244,   99.66000366,\n",
       "         81.30999756,   77.58999634,   74.33999634,   76.40000153,\n",
       "        101.65000153,   93.37000275], dtype=float32)"
      ]
     },
     "execution_count": 26,
     "metadata": {},
     "output_type": "execute_result"
    }
   ],
   "source": [
    "betas=ciap2.get('beta',sel='name CA')\n",
    "betas"
   ]
  },
  {
   "cell_type": "code",
   "execution_count": 27,
   "metadata": {},
   "outputs": [],
   "source": [
    "# To save to a file...\n",
    "import numpy\n",
    "numpy.savetxt(f\"{pid}/beta.csv\",betas)\n",
    "# !head nb_beta.csv"
   ]
  },
  {
   "cell_type": "markdown",
   "metadata": {},
   "source": [
    "# Step 3. System building\n",
    "\n",
    "Building consists in applying the necessary forcefield terms (tabulated potentials) to each atom, atom pair, and so on.\n",
    "\n",
    "Building needs be done with an eye on the chosen forcefield. Each has strengths and weaknesses. Generally useful are **Amber** and **Charmm**. \n",
    "\n",
    "Underlaying system-building software is very different and tricky. Here HTMD makes things simple for us.\n",
    "\n",
    "Inspiration: https://software.acellera.com/docs/latest/htmd/tutorials/system-building-protein-ligand.html"
   ]
  },
  {
   "cell_type": "code",
   "execution_count": 28,
   "metadata": {},
   "outputs": [],
   "source": [
    "prot = autoSegment(ciap2, sel='protein')\n",
    "#prot.set('segid', 'W', sel='water')\n",
    "#prot.set('segid', 'ZN', sel='resname ZN')\n",
    "\n",
    "prot.center()\n"
   ]
  },
  {
   "cell_type": "code",
   "execution_count": 29,
   "metadata": {},
   "outputs": [
    {
     "name": "stdout",
     "output_type": "stream",
     "text": [
      "22.4519823628\n"
     ]
    }
   ],
   "source": [
    "from htmd.molecule.util import maxDistance\n",
    "D = maxDistance(prot, 'all')\n",
    "print(D)"
   ]
  },
  {
   "cell_type": "code",
   "execution_count": 30,
   "metadata": {},
   "outputs": [],
   "source": [
    "?maxDistance"
   ]
  },
  {
   "cell_type": "markdown",
   "metadata": {},
   "source": [
    "## Solvation\n",
    "\n",
    "There needs be at least ~8 Å per side."
   ]
  },
  {
   "cell_type": "code",
   "execution_count": 31,
   "metadata": {},
   "outputs": [
    {
     "name": "stderr",
     "output_type": "stream",
     "text": [
      "2018-12-14 17:05:39,307 - htmd.builder.solvate - INFO - Using water pdb file at: /data/mdtutorial/miniconda/lib/python3.6/site-packages/htmd/builder/wat.pdb\n",
      "2018-12-14 17:05:40,830 - htmd.builder.solvate - INFO - Replicating 8 water segments, 2 by 2 by 2\n",
      "Solvating: 100%|██████████| 8/8 [00:06<00:00,  1.27it/s]\n",
      "2018-12-14 17:05:47,261 - htmd.builder.solvate - INFO - 6731 water molecules were added to the system.\n"
     ]
    },
    {
     "data": {
      "application/vnd.jupyter.widget-view+json": {
       "model_id": "4926aa1eecfc4719aeea0f70866b5575",
       "version_major": 2,
       "version_minor": 0
      },
      "text/plain": [
       "A Jupyter Widget"
      ]
     },
     "metadata": {},
     "output_type": "display_data"
    }
   ],
   "source": [
    "DW = D + 8\n",
    "smol = solvate(prot, minmax=[[-DW, -DW, -DW], [DW, DW, DW]])\n",
    "smol.reps.add(sel='water', style='Lines')\n",
    "smol.reps.add(sel=\"protein\", style=\"Cartoon\")\n",
    "smol.view()"
   ]
  },
  {
   "cell_type": "code",
   "execution_count": 32,
   "metadata": {},
   "outputs": [
    {
     "name": "stderr",
     "output_type": "stream",
     "text": [
      "2018-12-14 17:06:02,036 - htmd.builder.amber - INFO - Starting the build.\n",
      "2018-12-14 17:06:04,544 - htmd.builder.amber - INFO - Finished building.\n",
      "2018-12-14 17:06:06,280 - htmd.builder.ionize - INFO - Adding 4 anions + 0 cations for neutralizing and 0 ions for the given salt concentration.\n",
      "2018-12-14 17:06:08,232 - htmd.builder.builder - WARNING - Segments ['P0'] contain both protein and non-protein atoms. Please assign separate segments to them or the build procedure might fail.\n",
      "2018-12-14 17:06:09,190 - htmd.builder.amber - INFO - Detecting disulfide bonds.\n",
      "2018-12-14 17:06:09,200 - htmd.builder.builder - INFO - 0 disulfide bonds were added\n",
      "2018-12-14 17:06:10,271 - htmd.builder.amber - INFO - Starting the build.\n",
      "2018-12-14 17:06:12,858 - htmd.builder.amber - INFO - Finished building.\n"
     ]
    }
   ],
   "source": [
    "bmol_amber = amber.build(smol, outdir=f\"{pid}/build_amber\")"
   ]
  },
  {
   "cell_type": "code",
   "execution_count": 36,
   "metadata": {},
   "outputs": [
    {
     "data": {
      "application/vnd.jupyter.widget-view+json": {
       "model_id": "cb868442bd9b4a2195d8a8d61a0a1767",
       "version_major": 2,
       "version_minor": 0
      },
      "text/plain": [
       "A Jupyter Widget"
      ]
     },
     "metadata": {},
     "output_type": "display_data"
    }
   ],
   "source": [
    "bmol_amber.reps.remove()\n",
    "bmol_amber.reps.add(\"not water\", \"licorice\")\n",
    "bmol_amber.reps.add(\"resname ZN\", \"licorice\")\n",
    "bmol_amber.view() # visualize the charmm built system\n"
   ]
  },
  {
   "cell_type": "markdown",
   "metadata": {},
   "source": [
    "# Step 4. Simulate\n",
    "\n",
    "This requires that \n",
    "1. the system building steps worked correctly\n",
    "2. you have the appropriate software and hardware (in this case ACEMD+GPU)"
   ]
  },
  {
   "cell_type": "markdown",
   "metadata": {},
   "source": [
    "## Equilibration protocol\n",
    "\n",
    "The initial equilibration ensures the system is thermalized, pressured, and so on. Here we use a \"protocol\"."
   ]
  },
  {
   "cell_type": "code",
   "execution_count": 37,
   "metadata": {},
   "outputs": [],
   "source": [
    "from htmd.protocols.equilibration_v2 import Equilibration\n",
    "\n",
    "md = Equilibration()\n",
    "md.runtime = 1000          # <-- this is too short. only for tutorial purposes\n",
    "md.timeunits = 'fs'\n",
    "md.temperature = 300\n",
    "\n",
    "\n",
    "md.write(f\"./{pid}/build_amber\", f\"{pid}/equil\")"
   ]
  },
  {
   "cell_type": "code",
   "execution_count": 38,
   "metadata": {},
   "outputs": [
    {
     "name": "stderr",
     "output_type": "stream",
     "text": [
      "2018-12-14 17:14:38,921 - htmd.queues.localqueue - INFO - Trying to determine all GPU devices\n",
      "2018-12-14 17:14:39,015 - htmd.queues.localqueue - INFO - Using GPU devices 0,1,2\n",
      "2018-12-14 17:14:39,211 - htmd.queues.localqueue - INFO - Trying to determine all GPU devices\n",
      "2018-12-14 17:14:39,302 - htmd.queues.localqueue - INFO - Using GPU devices 0,1,2\n",
      "2018-12-14 17:14:39,305 - htmd.queues.localqueue - INFO - Queueing /data/mdtutorial/tutorial/16280/equil\n",
      "2018-12-14 17:14:39,307 - htmd.queues.localqueue - INFO - Running /data/mdtutorial/tutorial/16280/equil on device 0\n",
      "2018-12-14 17:15:03,370 - htmd.queues.localqueue - INFO - Completed /data/mdtutorial/tutorial/16280/equil\n"
     ]
    }
   ],
   "source": [
    "local = LocalGPUQueue()\n",
    "local.submit(f\"{pid}/equil\")\n",
    "local.wait()"
   ]
  },
  {
   "cell_type": "markdown",
   "metadata": {},
   "source": [
    "## Production protocol\n",
    "\n",
    "This is where we extract results from."
   ]
  },
  {
   "cell_type": "code",
   "execution_count": 41,
   "metadata": {},
   "outputs": [],
   "source": [
    "from htmd.protocols.production_v6 import Production\n",
    "\n",
    "md = Production()\n",
    "md.runtime = 1  # <-- this is too short. only for tutorial purposes\n",
    "md.timeunits = 'ns'\n",
    "md.temperature  = 300\n",
    "md.write(f\"{pid}/equil\",f\"{pid}/prod\")"
   ]
  },
  {
   "cell_type": "code",
   "execution_count": 42,
   "metadata": {},
   "outputs": [
    {
     "name": "stderr",
     "output_type": "stream",
     "text": [
      "2018-12-14 17:28:58,326 - htmd.queues.localqueue - INFO - Queueing /data/mdtutorial/tutorial/16280/prod\n",
      "2018-12-14 17:28:58,328 - htmd.queues.localqueue - INFO - Running /data/mdtutorial/tutorial/16280/prod on device 1\n",
      "2018-12-14 17:31:53,523 - htmd.queues.localqueue - INFO - Completed /data/mdtutorial/tutorial/16280/prod\n"
     ]
    }
   ],
   "source": [
    "local.submit(f\"{pid}/prod\")\n",
    "local.wait()"
   ]
  },
  {
   "cell_type": "markdown",
   "metadata": {},
   "source": [
    "## Visualization"
   ]
  },
  {
   "cell_type": "code",
   "execution_count": 43,
   "metadata": {},
   "outputs": [
    {
     "data": {
      "application/vnd.jupyter.widget-view+json": {
       "model_id": "c47771be1ade496fabddebc5031df2ad",
       "version_major": 2,
       "version_minor": 0
      },
      "text/plain": [
       "A Jupyter Widget"
      ]
     },
     "metadata": {},
     "output_type": "display_data"
    }
   ],
   "source": [
    "traj = Molecule(f\"{pid}/prod/structure.pdb\")\n",
    "traj.read(f\"{pid}/prod/output.xtc\")\n",
    "traj.wrap()\n",
    "traj.align('protein and name CA')\n",
    "traj.view()"
   ]
  },
  {
   "cell_type": "markdown",
   "metadata": {},
   "source": [
    "## Analysis (trivial example)"
   ]
  },
  {
   "cell_type": "code",
   "execution_count": 49,
   "metadata": {},
   "outputs": [],
   "source": [
    "gsn_run = Molecule(\"D187N+Nb-run-filtered/filtered.psf\")\n",
    "gsn_run.read(\"D187N+Nb-run-filtered/filtered.xtc\")\n"
   ]
  },
  {
   "cell_type": "code",
   "execution_count": 50,
   "metadata": {},
   "outputs": [
    {
     "data": {
      "text/plain": [
       "<htmd.molecule.molecule.Molecule object at 0x7ff9c7b0be10>\n",
       "Molecule with 3520 atoms and 5122 frames\n",
       "Atom field - altloc shape: (3520,)\n",
       "Atom field - atomtype shape: (3520,)\n",
       "Atom field - beta shape: (3520,)\n",
       "Atom field - chain shape: (3520,)\n",
       "Atom field - charge shape: (3520,)\n",
       "Atom field - coords shape: (3520, 3, 5122)\n",
       "Atom field - element shape: (3520,)\n",
       "Atom field - insertion shape: (3520,)\n",
       "Atom field - masses shape: (3520,)\n",
       "Atom field - name shape: (3520,)\n",
       "Atom field - occupancy shape: (3520,)\n",
       "Atom field - record shape: (3520,)\n",
       "Atom field - resid shape: (3520,)\n",
       "Atom field - resname shape: (3520,)\n",
       "Atom field - segid shape: (3520,)\n",
       "Atom field - serial shape: (3520,)\n",
       "angles shape: (6268, 3)\n",
       "bonds shape: (3498, 2)\n",
       "bondtype shape: (3498,)\n",
       "box shape: (3, 5122)\n",
       "boxangles shape: (3, 5122)\n",
       "crystalinfo: None\n",
       "dihedrals shape: (9163, 4)\n",
       "fileloc shape: (5122, 2)\n",
       "impropers shape: (663, 4)\n",
       "reps: \n",
       "ssbonds shape: (0,)\n",
       "step shape: (5122,)\n",
       "time shape: (5122,)\n",
       "topoloc: /data/mdtutorial/tutorial/D187N+Nb-run-filtered/filtered.psf\n",
       "viewname: filtered.psf"
      ]
     },
     "execution_count": 50,
     "metadata": {},
     "output_type": "execute_result"
    }
   ],
   "source": [
    "gsn_run"
   ]
  },
  {
   "cell_type": "code",
   "execution_count": 51,
   "metadata": {},
   "outputs": [
    {
     "data": {
      "application/vnd.jupyter.widget-view+json": {
       "model_id": "e99c5932287345dababfa3479801b174",
       "version_major": 2,
       "version_minor": 0
      },
      "text/plain": [
       "A Jupyter Widget"
      ]
     },
     "metadata": {},
     "output_type": "display_data"
    }
   ],
   "source": [
    "gsn_run.view()"
   ]
  },
  {
   "cell_type": "code",
   "execution_count": 52,
   "metadata": {},
   "outputs": [
    {
     "name": "stderr",
     "output_type": "stream",
     "text": [
      "2018-12-14 17:54:39,183 - htmd.molecule.molecule - INFO - Removed 3292 atoms. 228 atoms remaining in the molecule.\n"
     ]
    },
    {
     "data": {
      "text/plain": [
       "array([   0,    1,    2, ..., 3517, 3518, 3519], dtype=int32)"
      ]
     },
     "execution_count": 52,
     "metadata": {},
     "output_type": "execute_result"
    }
   ],
   "source": [
    "gsn_run.filter(\"name CA\")"
   ]
  },
  {
   "cell_type": "code",
   "execution_count": 53,
   "metadata": {},
   "outputs": [
    {
     "data": {
      "text/plain": [
       "<htmd.molecule.molecule.Molecule object at 0x7ff9c7b0be10>\n",
       "Molecule with 228 atoms and 5122 frames\n",
       "Atom field - altloc shape: (228,)\n",
       "Atom field - atomtype shape: (228,)\n",
       "Atom field - beta shape: (228,)\n",
       "Atom field - chain shape: (228,)\n",
       "Atom field - charge shape: (228,)\n",
       "Atom field - coords shape: (228, 3, 5122)\n",
       "Atom field - element shape: (228,)\n",
       "Atom field - insertion shape: (228,)\n",
       "Atom field - masses shape: (228,)\n",
       "Atom field - name shape: (228,)\n",
       "Atom field - occupancy shape: (228,)\n",
       "Atom field - record shape: (228,)\n",
       "Atom field - resid shape: (228,)\n",
       "Atom field - resname shape: (228,)\n",
       "Atom field - segid shape: (228,)\n",
       "Atom field - serial shape: (228,)\n",
       "angles shape: (0, 3)\n",
       "bonds shape: (0, 2)\n",
       "bondtype shape: (0,)\n",
       "box shape: (3, 5122)\n",
       "boxangles shape: (3, 5122)\n",
       "crystalinfo: None\n",
       "dihedrals shape: (0, 4)\n",
       "fileloc shape: (5122, 2)\n",
       "impropers shape: (0, 4)\n",
       "reps: \n",
       "ssbonds shape: (0,)\n",
       "step shape: (5122,)\n",
       "time shape: (5122,)\n",
       "topoloc: /data/mdtutorial/tutorial/D187N+Nb-run-filtered/filtered.psf\n",
       "viewname: filtered.psf"
      ]
     },
     "execution_count": 53,
     "metadata": {},
     "output_type": "execute_result"
    }
   ],
   "source": [
    "gsn_run"
   ]
  },
  {
   "cell_type": "code",
   "execution_count": 54,
   "metadata": {},
   "outputs": [
    {
     "data": {
      "application/vnd.jupyter.widget-view+json": {
       "model_id": "47e99691353d450287450c8a54e4bb63",
       "version_major": 2,
       "version_minor": 0
      },
      "text/plain": [
       "A Jupyter Widget"
      ]
     },
     "metadata": {},
     "output_type": "display_data"
    }
   ],
   "source": [
    "gsn_run.view()"
   ]
  },
  {
   "cell_type": "code",
   "execution_count": 80,
   "metadata": {},
   "outputs": [
    {
     "name": "stdout",
     "output_type": "stream",
     "text": [
      "[  1   2   3   4   5   6   7   8   9  10  11  12  13  14  15  16  17  18\n",
      "  19  20  21  22  23  24  25  26  27  28  29  30  31  32  33  34  35  36\n",
      "  37  38  39  40  41  42  43  44  45  46  47  48  49  50  51  52  53  54\n",
      "  55  56  57  58  59  60  61  62  63  64  65  66  67  68  69  70  71  72\n",
      "  73  74  75  76  77  78  79  80  81  82  83  84  85  86  87  88  89  90\n",
      "  91  92  93  94  95  96  97  98  99 100 101 102 103 104 105 106 107 108\n",
      " 109 110 111 112 113 114 115 116 117 118 119 120 121 122 123 124 125 126]\n",
      "[160 161 162 163 164 165 166 167 168 169 170 171 172 173 174 175 176 177\n",
      " 178 179 180 181 182 183 184 185 186 187 188 189 190 191 192 193 194 195\n",
      " 196 197 198 199 200 201 202 203 204 205 206 207 208 209 210 211 212 213\n",
      " 214 215 216 217 218 219 220 221 222 223 224 225 226 227 228 229 230 231\n",
      " 232 233 234 235 236 237 238 239 240 241 242 243 244 245 246 247 248 249\n",
      " 250 251 252 253 254 255 256 257 258 259 260 261]\n"
     ]
    }
   ],
   "source": [
    "print(gsn_run.get(\"resid\",sel=\"resid  < 150\"))  # These are the Nanobody residues\n",
    "print(gsn_run.get(\"resid\",sel=\"resid  > 150\"))  # These are the G2 residues"
   ]
  },
  {
   "cell_type": "markdown",
   "metadata": {},
   "source": [
    "Let's compute the average per-residue (C-alpha) fluctuation. Function is explained at https://software.acellera.com/docs/latest/htmd/htmd.projections.metricfluctuation.html?highlight=metricfluctuation . See also ?MetricFluctuation and all the other \"Metric\" functions (distances, contacts, etc.)"
   ]
  },
  {
   "cell_type": "code",
   "execution_count": 56,
   "metadata": {},
   "outputs": [],
   "source": [
    "?MetricFluctuation"
   ]
  },
  {
   "cell_type": "code",
   "execution_count": 67,
   "metadata": {},
   "outputs": [
    {
     "name": "stderr",
     "output_type": "stream",
     "text": [
      "2018-12-14 18:15:43,322 - htmd.projections.metriccoordinate - WARNING - The order of arguments in MetricCoordinate has changed since 1.12.0. Please look at the updated documentation of the class.\n"
     ]
    }
   ],
   "source": [
    "rmsf = MetricFluctuation(gsn_run,atomsel=\"resid < 150\",trajalnstr=\"resid < 150\",centerstr=\"resid < 150\").project(gsn_run)"
   ]
  },
  {
   "cell_type": "markdown",
   "metadata": {},
   "source": [
    "`rmsf` is a matrix having the fluctuation per residue and time. Times (frames, each 0.1 ns) are in rows, residues in columns."
   ]
  },
  {
   "cell_type": "code",
   "execution_count": 58,
   "metadata": {},
   "outputs": [
    {
     "data": {
      "text/plain": [
       "array([[ 2.4970665 ,  1.01393127,  1.58131814, ...,  0.43161541,\n",
       "         0.11773723,  0.1620343 ],\n",
       "       [ 1.75484228,  1.55687678,  1.38850236, ...,  0.35880643,\n",
       "         0.50770849,  0.6359216 ],\n",
       "       [ 4.42371035,  1.34161961,  0.77180105, ...,  0.0578604 ,\n",
       "         0.1406533 ,  0.48532656],\n",
       "       ..., \n",
       "       [ 1.02512836,  0.82728767,  0.65725732, ...,  0.11573555,\n",
       "         0.19610146,  0.02382283],\n",
       "       [ 3.05601835,  1.55239058,  0.37056795, ...,  0.11327742,\n",
       "         0.23821899,  1.08614182],\n",
       "       [ 2.11734009,  0.3616389 ,  0.0242546 , ...,  0.38470921,\n",
       "         0.39262938,  0.98693323]])"
      ]
     },
     "execution_count": 58,
     "metadata": {},
     "output_type": "execute_result"
    }
   ],
   "source": [
    "rmsf"
   ]
  },
  {
   "cell_type": "code",
   "execution_count": 59,
   "metadata": {},
   "outputs": [],
   "source": [
    "numpy.savetxt(f\"{pid}/fluct_nb.csv\",rmsf)\n"
   ]
  },
  {
   "cell_type": "markdown",
   "metadata": {},
   "source": [
    "There are 5122 frames (512.2 ns total simulation) and 126 residues."
   ]
  },
  {
   "cell_type": "code",
   "execution_count": 60,
   "metadata": {},
   "outputs": [
    {
     "data": {
      "text/plain": [
       "(5122, 126)"
      ]
     },
     "execution_count": 60,
     "metadata": {},
     "output_type": "execute_result"
    }
   ],
   "source": [
    "Tmax=rmsf.shape[0]/10  # N\n",
    "rmsf.shape"
   ]
  },
  {
   "cell_type": "code",
   "execution_count": 61,
   "metadata": {},
   "outputs": [
    {
     "name": "stdout",
     "output_type": "stream",
     "text": [
      "Populating the interactive namespace from numpy and matplotlib\n"
     ]
    }
   ],
   "source": [
    "# Import libraries for plotting. Please accept as it is, or export the csv and plot yourself.\n",
    "import matplotlib.pyplot as plt\n",
    "#import numpy as np\n",
    "plt.style.use('seaborn-white')\n",
    "%pylab inline\n",
    "pylab.rcParams['figure.figsize'] = (12, 8)"
   ]
  },
  {
   "cell_type": "code",
   "execution_count": 68,
   "metadata": {},
   "outputs": [
    {
     "data": {
      "image/png": "[encoded data removed]",
      "text/plain": [
       "<Figure size 432x288 with 1 Axes>"
      ]
     },
     "metadata": {
      "needs_background": "light"
     },
     "output_type": "display_data"
    }
   ],
   "source": [
    "plt.imshow(rmsf.T,aspect='auto',vmax=3, extent=[0,Tmax,161,1])\n",
    "plt.xlabel(\"Time (ns)\");\n",
    "plt.ylabel(\"Residue number\");"
   ]
  },
  {
   "cell_type": "code",
   "execution_count": 69,
   "metadata": {},
   "outputs": [
    {
     "name": "stderr",
     "output_type": "stream",
     "text": [
      "2018-12-14 18:15:51,004 - htmd.projections.metriccoordinate - WARNING - The order of arguments in MetricCoordinate has changed since 1.12.0. Please look at the updated documentation of the class.\n"
     ]
    },
    {
     "data": {
      "image/png": "[encoded data removed]",
      "text/plain": [
       "<Figure size 432x288 with 1 Axes>"
      ]
     },
     "metadata": {
      "needs_background": "light"
     },
     "output_type": "display_data"
    }
   ],
   "source": [
    "rmsf_metric = MetricFluctuation(gsn_run,atomsel=\"resid > 150\",trajalnstr=\"resid > 150\",centerstr=\"resid > 150\")\n",
    "rmsf = rmsf_metric.project(gsn_run)\n",
    "\n",
    "plt.imshow(rmsf.T,aspect='auto',vmax=10, extent=[0,Tmax,261,160])\n",
    "plt.xlabel(\"Time (ns)\");\n",
    "plt.ylabel(\"Residue number\");"
   ]
  },
  {
   "cell_type": "code",
   "execution_count": 83,
   "metadata": {},
   "outputs": [],
   "source": [
    "?plt.imshow"
   ]
  },
  {
   "cell_type": "code",
   "execution_count": null,
   "metadata": {},
   "outputs": [],
   "source": []
  }
 ],
 "metadata": {
  "kernelspec": {
   "display_name": "Python 3",
   "language": "python",
   "name": "python3"
  },
  "language_info": {
   "codemirror_mode": {
    "name": "ipython",
    "version": 3
   },
   "file_extension": ".py",
   "mimetype": "text/x-python",
   "name": "python",
   "nbconvert_exporter": "python",
   "pygments_lexer": "ipython3",
   "version": "3.6.6"
  }
 },
 "nbformat": 4,
 "nbformat_minor": 2
}
