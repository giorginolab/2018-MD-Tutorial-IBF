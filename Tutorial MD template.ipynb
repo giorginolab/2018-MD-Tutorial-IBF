{
 "cells": [
  {
   "cell_type": "markdown",
   "metadata": {},
   "source": [
    "# A practical MD Tutorial \n",
    "## December 2018 at IBF-CNR \n",
    "\n",
    "We'll be using the HTMD library, which is a Python-based package incorporating various MD components and provides simplified system-building functions.\n",
    "\n",
    "Notes:\n",
    "* Please copy this file (\"File->Make a copy\"). You can't overwrite it.\n",
    "* Evaluate cells using Shift-Enter (=execute contained code)\n",
    "* HTMD is only available on Linux. You are now using a remote Linux machine. \n",
    "* Use \"Kernel->Restart\" to start from scratch.\n",
    "\n",
    "Full documentation:\n",
    "* https://software.acellera.com/docs/latest/htmd/index.html\n",
    "* https://software.acellera.com/docs/latest/htmd/userguide.html\n",
    "\n",
    "References:\n",
    "1. Braun E, Gilmer J, Mayes HB, Mobley DL, Prasad S, Zuckerman DM. Best Practices for Foundations in Molecular Simulations [Article v1.0]. Living J Comp Mol Sci. :28.  https://github.com/MobleyLab/basic_simulation_training/blob/master/paper/basic_training.pdf\n",
    "1. Knapp B, Ospina L, Deane CM. Avoiding False Positive Conclusions in Molecular Simulation: The Importance of Replicas. J Chem Theory Comput [Internet]. 2018 Oct 24 [cited 2018 Nov 26]; Available from: https://doi.org/10.1021/acs.jctc.8b00391\n",
    "1. Giorgino T, Analysis libraries for molecular trajectories: a cross-language synopsis. To appear in:  Biomolecular Simulations: Methods and Protocols Edited by M. Bonomi and C. Camilloni (Springer). Preprint. [PDF](https://drive.google.com/open?id=1_mG3Ig6RaKsCJrnNfVDv0n6xa5_b25FE)\n"
   ]
  },
  {
   "cell_type": "code",
   "execution_count": 1,
   "metadata": {},
   "outputs": [
    {
     "data": {
      "text/plain": [
       "2"
      ]
     },
     "execution_count": 1,
     "metadata": {},
     "output_type": "execute_result"
    }
   ],
   "source": [
    "1+1"
   ]
  },
  {
   "cell_type": "markdown",
   "metadata": {},
   "source": [
    "# Molecular Dynamics \n",
    "\n",
    "## Assumptions\n",
    "\n",
    "\n",
    "In this tutorial we shall deal with *unbiased* sampling approaches with explicit solvent, i.e. \n",
    "* no added forces except the \"physical\" ones in your system;\n",
    "* all of the system (including water molecules) have atomic resolution.\n",
    "\n",
    "Also, current *classical* MD does **not** address, by design, the following:\n",
    "* Chemical reactions, e.g. catalysis, phosphorylation, ubiquitination etc.\n",
    "* Protonation changes\n",
    "\n",
    "Finally, small molecules pose distinct challenges and need a separate, expensive *parameterization* step.\n",
    "\n",
    "\n",
    "## MD is *entirely* about timescales\n",
    "\n",
    "Your ability to obtain quantitative results is *severely* limited by the sampling ability you have. You will only be able to reach phenomena occurring on the *sampled* timescales, or shorter. \n",
    "\n",
    "* Sidechain rearrangements, diffusion-limited processes: usually possible *\n",
    "* Local flexibility: usually possible *\n",
    "* Membrane environment: ok-ish\n",
    "* Binding: hard but not impossible\n",
    "* Folding: very hard but not impossible\n",
    "\n",
    "[*] Unless there are significant barriers.\n",
    "\n",
    "The following factors affect the running speed (usually expressed in ns per simulation day, ns/day)\n",
    "* System size. Reasonable is 100 AA ~ 30,000 atoms. \n",
    "* Computer speed. Forget laptops. Use GPU if available.\n",
    "* Software. \n",
    "\n",
    "## Biased sampling\n",
    "\n",
    "If you are prepared to pay the price of adding *a priori* knowledge to your system, one may resort to *biased* sampling approaches, e.g. Metadynamics. This is a different topic; basic MD technology stays the same, but biasing libraries (e.g. [Plumed 2](http://www.plumed.org/)) come into play."
   ]
  },
  {
   "cell_type": "code",
   "execution_count": 2,
   "metadata": {},
   "outputs": [
    {
     "name": "stdout",
     "output_type": "stream",
     "text": [
      "This session's PID is 29466, which is also a directory where you will find your files\n"
     ]
    }
   ],
   "source": [
    "# Ignore the following cell. It's to separate your work files.\n",
    "import os\n",
    "pid=os.getpid()\n",
    "print(f\"This session's PID is {pid}, which is also a directory where you will find your files\")\n",
    "try: os.mkdir(f\"{pid}\") \n",
    "except: pass"
   ]
  },
  {
   "cell_type": "markdown",
   "metadata": {},
   "source": [
    "# Step 1. Know and prepare your system\n",
    "\n",
    "Review your knowledge of the system on the light of what was mentioned before. \n",
    "\n",
    "To assess protonation states, submit your PDB to https://playmolecule.org/proteinPrepare/ . Make a note of the non-standard states. See https://software.acellera.com/docs/latest/htmd/tutorials/protein-preparation.html. \n",
    "\n",
    "1. Martínez-Rosell G, Giorgino T, De Fabritiis G. PlayMolecule ProteinPrepare: A Web Application for Protein Preparation for Molecular Dynamics Simulations. J Chem Inf Model. 2017 Jul 24;57(7):1511–6. \n",
    "\n"
   ]
  },
  {
   "cell_type": "markdown",
   "metadata": {},
   "source": [
    "# Step 2. Import the HTMD package"
   ]
  },
  {
   "cell_type": "code",
   "execution_count": 3,
   "metadata": {},
   "outputs": [
    {
     "name": "stdout",
     "output_type": "stream",
     "text": [
      "ffevaluate module is in beta version\n",
      "\n",
      "Please cite HTMD: Doerr et al.(2016)JCTC,12,1845. \n",
      "https://dx.doi.org/10.1021/acs.jctc.6b00049\n",
      "Documentation: http://software.acellera.com/\n",
      "\n",
      "You are on the latest HTMD version (1.13.9).\n",
      "\n"
     ]
    }
   ],
   "source": [
    "from htmd.ui import *\n",
    "config(viewer='ngl')"
   ]
  },
  {
   "cell_type": "markdown",
   "metadata": {},
   "source": [
    "## Basic Molecule manipulation"
   ]
  },
  {
   "cell_type": "code",
   "execution_count": 4,
   "metadata": {},
   "outputs": [
    {
     "name": "stderr",
     "output_type": "stream",
     "text": [
      "2018-11-28 14:17:03,821 - htmd.molecule.readers - INFO - Attempting PDB query for 4S10\n",
      "/data/mdtutorial/miniconda/lib/python3.6/site-packages/pyemma/__init__.py:91: UserWarning: You are not using the latest release of PyEMMA. Latest is 2.5.4, you have 2.4.\n",
      "  .format(latest=latest, current=current), category=UserWarning)\n"
     ]
    },
    {
     "data": {
      "text/plain": [
       "<htmd.molecule.molecule.Molecule object at 0x7f4a52ff1048>\n",
       "Molecule with 3613 atoms and 1 frames\n",
       "Atom field - altloc shape: (3613,)\n",
       "Atom field - atomtype shape: (3613,)\n",
       "Atom field - beta shape: (3613,)\n",
       "Atom field - chain shape: (3613,)\n",
       "Atom field - charge shape: (3613,)\n",
       "Atom field - coords shape: (3613, 3, 1)\n",
       "Atom field - element shape: (3613,)\n",
       "Atom field - insertion shape: (3613,)\n",
       "Atom field - masses shape: (3613,)\n",
       "Atom field - name shape: (3613,)\n",
       "Atom field - occupancy shape: (3613,)\n",
       "Atom field - record shape: (3613,)\n",
       "Atom field - resid shape: (3613,)\n",
       "Atom field - resname shape: (3613,)\n",
       "Atom field - segid shape: (3613,)\n",
       "Atom field - serial shape: (3613,)\n",
       "angles shape: (0, 3)\n",
       "bonds shape: (34, 2)\n",
       "bondtype shape: (34,)\n",
       "box shape: (3, 1)\n",
       "boxangles shape: (3, 1)\n",
       "crystalinfo: {'a': 37.597999999999999, 'b': 46.333999999999996, 'c': 76.438000000000002, 'alpha': 103.0, 'beta': 92.030000000000001, 'gamma': 89.849999999999994, 'sGroup': ['P', '1'], 'z': 2, 'numcopies': 1, 'rotations': array([[[ 1.,  0.,  0.],\n",
       "        [ 0.,  1.,  0.],\n",
       "        [ 0.,  0.,  1.]]]), 'translations': array([[ 0.,  0.,  0.]])}\n",
       "dihedrals shape: (0, 4)\n",
       "fileloc shape: (1, 2)\n",
       "impropers shape: (0, 4)\n",
       "reps: \n",
       "ssbonds shape: (0,)\n",
       "step shape: (1,)\n",
       "time shape: (1,)\n",
       "topoloc: /tmp/tmpidi_hmnu.pdb\n",
       "viewname: tmpidi_hmnu.pdb"
      ]
     },
     "execution_count": 4,
     "metadata": {},
     "output_type": "execute_result"
    }
   ],
   "source": [
    "g2_nb = Molecule(\"4S10\")\n",
    "g2_nb"
   ]
  },
  {
   "cell_type": "code",
   "execution_count": 5,
   "metadata": {},
   "outputs": [
    {
     "data": {
      "application/vnd.jupyter.widget-view+json": {
       "model_id": "59281b0e864b4d94a0f0589491209d61",
       "version_major": 2,
       "version_minor": 0
      },
      "text/plain": [
       "A Jupyter Widget"
      ]
     },
     "metadata": {},
     "output_type": "display_data"
    }
   ],
   "source": [
    "# Viewer https://software.acellera.com/docs/latest/htmd/htmd.vmdviewer.html\n",
    "g2_nb.view()"
   ]
  },
  {
   "cell_type": "code",
   "execution_count": 6,
   "metadata": {},
   "outputs": [
    {
     "name": "stderr",
     "output_type": "stream",
     "text": [
      "2018-11-28 14:17:04,995 - htmd.molecule.molecule - INFO - Removed 2793 atoms. 820 atoms remaining in the molecule.\n"
     ]
    },
    {
     "data": {
      "application/vnd.jupyter.widget-view+json": {
       "model_id": "4894f9c1b715409389e10c354281e9c1",
       "version_major": 2,
       "version_minor": 0
      },
      "text/plain": [
       "A Jupyter Widget"
      ]
     },
     "metadata": {},
     "output_type": "display_data"
    }
   ],
   "source": [
    "g2 = g2_nb.copy()\n",
    "g2.filter(\"chain D\")\n",
    "g2.view()"
   ]
  },
  {
   "cell_type": "code",
   "execution_count": 7,
   "metadata": {},
   "outputs": [
    {
     "name": "stderr",
     "output_type": "stream",
     "text": [
      "2018-11-28 14:17:05,152 - htmd.molecule.molecule - INFO - Removed 2627 atoms. 986 atoms remaining in the molecule.\n"
     ]
    },
    {
     "data": {
      "application/vnd.jupyter.widget-view+json": {
       "model_id": "cca670d34a9448799eea20407dcd54a9",
       "version_major": 2,
       "version_minor": 0
      },
      "text/plain": [
       "A Jupyter Widget"
      ]
     },
     "metadata": {},
     "output_type": "display_data"
    }
   ],
   "source": [
    "nb = g2_nb.copy()\n",
    "nb.filter(\"chain A\")\n",
    "nb.view()"
   ]
  },
  {
   "cell_type": "markdown",
   "metadata": {},
   "source": [
    "* Note that `nb` etc. are *objects* of type `Molecule`.\n",
    "* You may apply transformations, get properties, and so on. \n",
    "* The objective is to make the notebook *reproducible*.\n",
    "* For help, see `?Molecule` and https://software.acellera.com/docs/latest/htmd/molecule.html"
   ]
  },
  {
   "cell_type": "code",
   "execution_count": 8,
   "metadata": {},
   "outputs": [],
   "source": [
    "?Molecule"
   ]
  },
  {
   "cell_type": "code",
   "execution_count": 9,
   "metadata": {},
   "outputs": [
    {
     "data": {
      "text/plain": [
       "array([ 53.83000183,  48.11999893,  40.29000092,  26.27000046,\n",
       "        35.34999847,  26.84000015,  29.07999992,  30.26000023,\n",
       "        42.65000153,  45.81000137,  44.59000015,  54.88999939,\n",
       "        61.95999908,  51.45999908,  54.47000122,  40.20999908,\n",
       "        38.38000107,  30.5       ,  45.04999924,  38.61999893,\n",
       "        46.20000076,  29.95999908,  30.01000023,  30.95000076,\n",
       "        44.25999832,  29.70000076,  26.42000008,  40.15000153,\n",
       "        46.61999893,  33.74000168,  33.09999847,  37.5       ,\n",
       "        39.70000076,  28.57999992,  36.34999847,  27.55999947,\n",
       "        30.55999947,  38.52000046,  33.33000183,  48.40999985,\n",
       "        61.45000076,  60.70000076,  59.11000061,  48.11000061,\n",
       "        35.29000092,  34.84999847,  29.13999939,  44.58000183,\n",
       "        34.18999863,  25.76000023,  44.79999924,  32.68999863,\n",
       "        34.72000122,  45.52000046,  57.20000076,  47.31999969,\n",
       "        42.63000107,  37.72999954,  41.        ,  35.47000122,\n",
       "        33.68999863,  48.81999969,  56.63000107,  36.09000015,\n",
       "        42.52000046,  55.97000122,  52.61999893,  53.54999924,\n",
       "        32.66999817,  39.41999817,  38.38999939,  48.47999954,\n",
       "        47.83000183,  43.77000046,  47.22999954,  55.52999878,\n",
       "        40.90999985,  32.90000153,  41.06000137,  45.86999893,\n",
       "        34.68000031,  29.54000092,  52.97999954,  41.90999985,\n",
       "        48.20000076,  34.45000076,  38.47000122,  33.41999817,\n",
       "        41.29000092,  29.39999962,  35.50999832,  27.72999954,\n",
       "        30.69000053,  24.23999977,  33.15999985,  28.55999947,\n",
       "        27.42000008,  22.31999969,  28.82999992,  27.68000031,\n",
       "        27.39999962,  32.22999954,  48.33000183,  43.38000107,\n",
       "        37.61999893,  42.06999969,  35.68999863,  50.95999908,\n",
       "        49.88999939,  45.13999939,  38.86000061,  41.36000061,\n",
       "        30.80999947,  33.59000015,  32.75999832,  32.25999832,\n",
       "        23.42000008,  33.00999832,  37.68999863,  42.29000092,\n",
       "        29.53000069,  37.50999832,  33.54000092,  40.65000153,\n",
       "        39.86000061,  63.99000168,  68.33999634], dtype=float32)"
      ]
     },
     "execution_count": 9,
     "metadata": {},
     "output_type": "execute_result"
    }
   ],
   "source": [
    "nb.get('beta',sel='name CA')"
   ]
  },
  {
   "cell_type": "code",
   "execution_count": 10,
   "metadata": {},
   "outputs": [
    {
     "data": {
      "text/plain": [
       "array([ 53.83000183,  48.11999893,  40.29000092,  26.27000046,\n",
       "        35.34999847,  26.84000015,  29.07999992,  30.26000023,\n",
       "        42.65000153,  45.81000137,  44.59000015,  54.88999939,\n",
       "        61.95999908,  51.45999908,  54.47000122,  40.20999908,\n",
       "        38.38000107,  30.5       ,  45.04999924,  38.61999893,\n",
       "        46.20000076,  29.95999908,  30.01000023,  30.95000076,\n",
       "        44.25999832,  29.70000076,  26.42000008,  40.15000153,\n",
       "        46.61999893,  33.74000168,  33.09999847,  37.5       ,\n",
       "        39.70000076,  28.57999992,  36.34999847,  27.55999947,\n",
       "        30.55999947,  38.52000046,  33.33000183,  48.40999985,\n",
       "        61.45000076,  60.70000076,  59.11000061,  48.11000061,\n",
       "        35.29000092,  34.84999847,  29.13999939,  44.58000183,\n",
       "        34.18999863,  25.76000023,  44.79999924,  32.68999863,\n",
       "        34.72000122,  45.52000046,  57.20000076,  47.31999969,\n",
       "        42.63000107,  37.72999954,  41.        ,  35.47000122,\n",
       "        33.68999863,  48.81999969,  56.63000107,  36.09000015,\n",
       "        42.52000046,  55.97000122,  52.61999893,  53.54999924,\n",
       "        32.66999817,  39.41999817,  38.38999939,  48.47999954,\n",
       "        47.83000183,  43.77000046,  47.22999954,  55.52999878,\n",
       "        40.90999985,  32.90000153,  41.06000137,  45.86999893,\n",
       "        34.68000031,  29.54000092,  52.97999954,  41.90999985,\n",
       "        48.20000076,  34.45000076,  38.47000122,  33.41999817,\n",
       "        41.29000092,  29.39999962,  35.50999832,  27.72999954,\n",
       "        30.69000053,  24.23999977,  33.15999985,  28.55999947,\n",
       "        27.42000008,  22.31999969,  28.82999992,  27.68000031,\n",
       "        27.39999962,  32.22999954,  48.33000183,  43.38000107,\n",
       "        37.61999893,  42.06999969,  35.68999863,  50.95999908,\n",
       "        49.88999939,  45.13999939,  38.86000061,  41.36000061,\n",
       "        30.80999947,  33.59000015,  32.75999832,  32.25999832,\n",
       "        23.42000008,  33.00999832,  37.68999863,  42.29000092,\n",
       "        29.53000069,  37.50999832,  33.54000092,  40.65000153,\n",
       "        39.86000061,  63.99000168,  68.33999634], dtype=float32)"
      ]
     },
     "execution_count": 10,
     "metadata": {},
     "output_type": "execute_result"
    }
   ],
   "source": [
    "nb_beta = nb.get('beta',sel='name CA')\n",
    "nb_beta"
   ]
  },
  {
   "cell_type": "code",
   "execution_count": 11,
   "metadata": {},
   "outputs": [],
   "source": [
    "# To save to a file...\n",
    "import numpy\n",
    "numpy.savetxt(f\"{pid}/nb_beta.csv\",nb_beta)\n",
    "# !head nb_beta.csv"
   ]
  },
  {
   "cell_type": "markdown",
   "metadata": {},
   "source": [
    "# Step 3. System building\n",
    "\n",
    "Building consists in applying the necessary forcefield terms (tabulated potentials) to each atom, atom pair, and so on.\n",
    "\n",
    "Building needs be done with an eye on the chosen forcefield. Each has strengths and weaknesses. Generally useful are **Amber** and **Charmm**. \n",
    "\n",
    "Underlaying system-building software is very different and tricky. Here HTMD makes things simple for us.\n",
    "\n",
    "Inspiration: https://software.acellera.com/docs/latest/htmd/tutorials/system-building-protein-ligand.html"
   ]
  },
  {
   "cell_type": "code",
   "execution_count": 12,
   "metadata": {},
   "outputs": [],
   "source": [
    "prot = autoSegment(g2, sel='protein')\n",
    "prot.set('segid', 'W', sel='water')\n",
    "prot.set('segid', 'CA', sel='resname CA')\n",
    "\n",
    "prot.center()\n"
   ]
  },
  {
   "cell_type": "code",
   "execution_count": 13,
   "metadata": {},
   "outputs": [
    {
     "name": "stdout",
     "output_type": "stream",
     "text": [
      "23.3182922158\n"
     ]
    }
   ],
   "source": [
    "from htmd.molecule.util import maxDistance\n",
    "D = maxDistance(prot, 'all')\n",
    "print(D)"
   ]
  },
  {
   "cell_type": "markdown",
   "metadata": {},
   "source": [
    "## Solvation\n",
    "\n",
    "There needs be at least ~8 Å per side."
   ]
  },
  {
   "cell_type": "code",
   "execution_count": 14,
   "metadata": {},
   "outputs": [
    {
     "name": "stderr",
     "output_type": "stream",
     "text": [
      "2018-11-28 14:17:05,588 - htmd.builder.solvate - INFO - Using water pdb file at: /data/mdtutorial/miniconda/lib/python3.6/site-packages/htmd/builder/wat.pdb\n",
      "2018-11-28 14:17:06,472 - htmd.builder.solvate - INFO - Replicating 8 water segments, 2 by 2 by 2\n",
      "Solvating: 100%|██████████| 8/8 [00:03<00:00,  2.12it/s]\n",
      "2018-11-28 14:17:10,406 - htmd.builder.solvate - INFO - 7207 water molecules were added to the system.\n"
     ]
    },
    {
     "data": {
      "application/vnd.jupyter.widget-view+json": {
       "model_id": "3504be695db5474b90a2353f0b395cc8",
       "version_major": 2,
       "version_minor": 0
      },
      "text/plain": [
       "A Jupyter Widget"
      ]
     },
     "metadata": {},
     "output_type": "display_data"
    }
   ],
   "source": [
    "DW = D + 8\n",
    "smol = solvate(prot, minmax=[[-DW, -DW, -DW], [DW, DW, DW]])\n",
    "smol.reps.add(sel='water', style='Lines')\n",
    "smol.reps.add(sel=\"protein\", style=\"Cartoon\")\n",
    "smol.view()"
   ]
  },
  {
   "cell_type": "code",
   "execution_count": 15,
   "metadata": {},
   "outputs": [
    {
     "name": "stderr",
     "output_type": "stream",
     "text": [
      "2018-11-28 14:17:14,726 - htmd.builder.amber - INFO - Starting the build.\n",
      "2018-11-28 14:17:16,714 - htmd.builder.amber - INFO - Finished building.\n",
      "2018-11-28 14:17:17,883 - htmd.builder.ionize - INFO - Adding 0 anions + 0 cations for neutralizing and 0 ions for the given salt concentration.\n",
      "2018-11-28 14:17:18,383 - htmd.builder.builder - WARNING - Segments ['P0'] contain both protein and non-protein atoms. Please assign separate segments to them or the build procedure might fail.\n",
      "2018-11-28 14:17:19,044 - htmd.builder.amber - INFO - Detecting disulfide bonds.\n",
      "2018-11-28 14:17:19,052 - htmd.builder.builder - INFO - One disulfide bond was added\n"
     ]
    },
    {
     "name": "stdout",
     "output_type": "stream",
     "text": [
      "Disulfide Bond between: UniqueResidueID<resname: 'CYS', chain: 'D', resid: 188, insertion: '', segid: 'P0'>\n",
      "                   and: UniqueResidueID<resname: 'CYS', chain: 'D', resid: 201, insertion: '', segid: 'P0'>\n",
      "\n"
     ]
    },
    {
     "name": "stderr",
     "output_type": "stream",
     "text": [
      "2018-11-28 14:17:19,873 - htmd.builder.amber - INFO - Starting the build.\n",
      "2018-11-28 14:17:21,915 - htmd.builder.amber - INFO - Finished building.\n"
     ]
    }
   ],
   "source": [
    "bmol_amber = amber.build(smol, outdir=f\"{pid}/build_amber\")"
   ]
  },
  {
   "cell_type": "code",
   "execution_count": 16,
   "metadata": {},
   "outputs": [
    {
     "name": "stdout",
     "output_type": "stream",
     "text": [
      "ls: cannot access 'build_amber': No such file or directory\r\n"
     ]
    }
   ],
   "source": [
    "! ls -l build_amber"
   ]
  },
  {
   "cell_type": "code",
   "execution_count": 17,
   "metadata": {},
   "outputs": [
    {
     "data": {
      "application/vnd.jupyter.widget-view+json": {
       "model_id": "0aadc1754dfd485a8e417993d83770d8",
       "version_major": 2,
       "version_minor": 0
      },
      "text/plain": [
       "A Jupyter Widget"
      ]
     },
     "metadata": {},
     "output_type": "display_data"
    }
   ],
   "source": [
    "bmol_amber.view(sel='not water') # visualize the charmm built system"
   ]
  },
  {
   "cell_type": "markdown",
   "metadata": {},
   "source": [
    "# Step 4. Simulate\n",
    "\n",
    "This requires that \n",
    "1. the system building steps worked correctly\n",
    "2. you have the appropriate software and hardware (in this case ACEMD+GPU)"
   ]
  },
  {
   "cell_type": "markdown",
   "metadata": {},
   "source": [
    "## Equilibration protocol\n",
    "\n",
    "The initial equilibration ensures the system is thermalized, pressured, and so on. Here we use a \"protocol\"."
   ]
  },
  {
   "cell_type": "code",
   "execution_count": 18,
   "metadata": {},
   "outputs": [],
   "source": [
    "from htmd.protocols.equilibration_v2 import Equilibration\n",
    "\n",
    "md = Equilibration()\n",
    "md.runtime = 1000          # <-- this is too short. only for tutorial purposes\n",
    "md.timeunits = 'fs'\n",
    "md.temperature = 300\n",
    "md.useconstantratio = False  # only for membrane sims\n",
    "\n",
    "md.write(f\"./{pid}/build_amber\", f\"{pid}/equil\")"
   ]
  },
  {
   "cell_type": "code",
   "execution_count": 19,
   "metadata": {},
   "outputs": [
    {
     "name": "stderr",
     "output_type": "stream",
     "text": [
      "2018-11-28 14:17:32,604 - htmd.queues.localqueue - INFO - Trying to determine all GPU devices\n",
      "2018-11-28 14:17:32,685 - htmd.queues.localqueue - INFO - Using GPU devices 0,1,2\n",
      "2018-11-28 14:17:32,806 - htmd.queues.localqueue - INFO - Trying to determine all GPU devices\n",
      "2018-11-28 14:17:32,883 - htmd.queues.localqueue - INFO - Using GPU devices 0,1,2\n",
      "2018-11-28 14:17:32,887 - htmd.queues.localqueue - INFO - Queueing /data/mdtutorial/tutorial/29466/equil\n",
      "2018-11-28 14:17:32,889 - htmd.queues.localqueue - INFO - Running /data/mdtutorial/tutorial/29466/equil on device 0\n",
      "2018-11-28 14:17:56,426 - htmd.queues.localqueue - INFO - Completed /data/mdtutorial/tutorial/29466/equil\n"
     ]
    }
   ],
   "source": [
    "local = LocalGPUQueue()\n",
    "local.submit(f\"{pid}/equil\")\n",
    "local.wait()"
   ]
  },
  {
   "cell_type": "markdown",
   "metadata": {},
   "source": [
    "## Production protocol\n",
    "\n",
    "This is where we extract results from."
   ]
  },
  {
   "cell_type": "code",
   "execution_count": 20,
   "metadata": {},
   "outputs": [],
   "source": [
    "from htmd.protocols.production_v6 import Production\n",
    "\n",
    "md = Production()\n",
    "md.runtime = 1  # <-- this is too short. only for tutorial purposes\n",
    "md.timeunits = 'ns'\n",
    "md.temperature  = 300\n",
    "md.acemd.bincoordinates = 'output.coor'\n",
    "md.acemd.extendedsystem  = 'output.xsc'\n",
    "md.write(f\"{pid}/equil\",f\"{pid}/prod\")"
   ]
  },
  {
   "cell_type": "code",
   "execution_count": 21,
   "metadata": {},
   "outputs": [
    {
     "name": "stderr",
     "output_type": "stream",
     "text": [
      "2018-11-28 14:17:59,014 - htmd.queues.localqueue - INFO - Trying to determine all GPU devices\n",
      "2018-11-28 14:17:59,094 - htmd.queues.localqueue - INFO - Using GPU devices 0,1,2\n",
      "2018-11-28 14:17:59,220 - htmd.queues.localqueue - INFO - Trying to determine all GPU devices\n",
      "2018-11-28 14:17:59,305 - htmd.queues.localqueue - INFO - Using GPU devices 0,1,2\n",
      "2018-11-28 14:17:59,307 - htmd.queues.localqueue - INFO - Queueing /data/mdtutorial/tutorial/29466/prod\n",
      "2018-11-28 14:17:59,308 - htmd.queues.localqueue - INFO - Running /data/mdtutorial/tutorial/29466/prod on device 0\n",
      "2018-11-28 14:21:09,295 - htmd.queues.localqueue - INFO - Completed /data/mdtutorial/tutorial/29466/prod\n"
     ]
    }
   ],
   "source": [
    "local = LocalGPUQueue()\n",
    "local.submit(f\"{pid}/prod\")\n",
    "local.wait()"
   ]
  },
  {
   "cell_type": "markdown",
   "metadata": {},
   "source": [
    "## Visualization"
   ]
  },
  {
   "cell_type": "code",
   "execution_count": 24,
   "metadata": {},
   "outputs": [
    {
     "data": {
      "application/vnd.jupyter.widget-view+json": {
       "model_id": "0e413ba9b71d452cb1f5a53702889664",
       "version_major": 2,
       "version_minor": 0
      },
      "text/plain": [
       "A Jupyter Widget"
      ]
     },
     "metadata": {},
     "output_type": "display_data"
    }
   ],
   "source": [
    "traj = Molecule(f\"{pid}/prod/structure.pdb\")\n",
    "traj.read(f\"{pid}/prod/output.xtc\")\n",
    "traj.wrap()\n",
    "traj.align('protein and name CA')\n",
    "traj.view()"
   ]
  },
  {
   "cell_type": "code",
   "execution_count": null,
   "metadata": {},
   "outputs": [],
   "source": []
  }
 ],
 "metadata": {
  "kernelspec": {
   "display_name": "Python 3",
   "language": "python",
   "name": "python3"
  },
  "language_info": {
   "codemirror_mode": {
    "name": "ipython",
    "version": 3
   },
   "file_extension": ".py",
   "mimetype": "text/x-python",
   "name": "python",
   "nbconvert_exporter": "python",
   "pygments_lexer": "ipython3",
   "version": "3.6.6"
  }
 },
 "nbformat": 4,
 "nbformat_minor": 2
}
